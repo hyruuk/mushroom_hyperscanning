{
 "cells": [
  {
   "cell_type": "code",
   "execution_count": 1,
   "metadata": {},
   "outputs": [],
   "source": [
    "from mne_bids import BIDSPath\n",
    "import mne\n",
    "from mne import io\n",
    "import pandas as pd\n",
    "import numpy as np\n",
    "from matplotlib import pyplot as plt"
   ]
  },
  {
   "cell_type": "code",
   "execution_count": 2,
   "metadata": {},
   "outputs": [],
   "source": [
    "def load_eeg(sub, ceremony, root):\n",
    "    paths = BIDSPath(\n",
    "        subject=sub,\n",
    "        session=ceremony,\n",
    "        task=\"psilo\",\n",
    "        datatype=\"eeg\",\n",
    "        root=root,\n",
    "    ).match()\n",
    "\n",
    "    assert len(paths) == 1, f\"Expected 1 path, got {len(paths)} paths: {paths}\"\n",
    "    return io.read_raw(paths[0])\n",
    "\n",
    "def load_custom_ecg(subject, session, task, bids_root):\n",
    "    # Construct the file path manually\n",
    "    file_path = f\"{bids_root}/sub-{subject}/ses-{session}/ecg/sub-{subject}_ses-{session}_task-{task}_ecg.csv\"\n",
    "    file_path_trigger = f\"{bids_root}/sub-{subject}/ses-{session}/ecg/sub-{subject}_ses-{session}_task-{task}_ecg-trigger.csv\"   \n",
    "    file_path_info = f\"{bids_root}/sub-{subject}/ses-{session}/ecg/sub-{subject}_ses-{session}_task-{task}_info.csv\"\n",
    "    # Load the data\n",
    "    ecg_data = pd.read_csv(file_path)\n",
    "    ecg_trigger = pd.read_csv(file_path_trigger)\n",
    "    ecg_info = pd.read_csv(file_path_info)\n",
    "    return ecg_data, ecg_trigger, ecg_info"
   ]
  },
  {
   "cell_type": "code",
   "execution_count": 16,
   "metadata": {},
   "outputs": [],
   "source": [
    "\n",
    "BIDS_ROOT = \"../data/bids_dataset\"\n",
    "\n",
    "subject = '02'\n",
    "session = 'ceremony1'\n",
    "task = 'psilo'\n",
    "ecg_data, ecg_trigger, ecg_info = load_custom_ecg(subject, session, task, BIDS_ROOT)\n",
    "ecg_trigger.index /= 256*60"
   ]
  },
  {
   "cell_type": "code",
   "execution_count": 5,
   "metadata": {},
   "outputs": [
    {
     "data": {
      "text/plain": [
       "Index(['steady_timestamp', 'sequence', 'battery', 'flags', 'ExG [2]-ch1'], dtype='object')"
      ]
     },
     "execution_count": 5,
     "metadata": {},
     "output_type": "execute_result"
    }
   ],
   "source": [
    "ecg_trigger.columns"
   ]
  },
  {
   "cell_type": "code",
   "execution_count": null,
   "metadata": {},
   "outputs": [],
   "source": []
  },
  {
   "cell_type": "code",
   "execution_count": null,
   "metadata": {},
   "outputs": [
    {
     "data": {
      "image/png": "[encoded data removed]",
      "text/plain": [
       "<Figure size 640x480 with 1 Axes>"
      ]
     },
     "metadata": {},
     "output_type": "display_data"
    }
   ],
   "source": [
    "ecg_trigger[\"ExG [2]-ch1\"].iloc[600000:600000].plot()\n",
    "plt.show()"
   ]
  },
  {
   "cell_type": "code",
   "execution_count": 19,
   "metadata": {},
   "outputs": [
    {
     "name": "stdout",
     "output_type": "stream",
     "text": [
      "Extracting EDF parameters from c:\\Users\\pthoe\\projects\\mexico\\mushroom_hyperscanning\\data\\bids_dataset\\sub-01\\ses-ceremony1\\eeg\\sub-01_ses-ceremony1_task-psilo_eeg.edf...\n",
      "EDF file detected\n",
      "Setting channel info structure...\n",
      "Creating raw.info structure...\n"
     ]
    },
    {
     "data": {
      "text/plain": [
       "array([], dtype=float64)"
      ]
     },
     "execution_count": 19,
     "metadata": {},
     "output_type": "execute_result"
    }
   ],
   "source": [
    "raw: io.Raw = load_eeg(\"01\", \"ceremony1\", \"../data/bids_dataset\")\n",
    "raw.ch_names\n",
    "\n",
    "# Get annotations\n",
    "annotations = raw.annotations\n",
    "mask = annotations.description == '9'\n",
    "\n",
    "# Get the onset of the annotations and the distance between them\n",
    "onsets = annotations.onset[mask]\n",
    "diffs = np.diff(onsets)\n",
    "diffs"
   ]
  },
  {
   "cell_type": "code",
   "execution_count": null,
   "metadata": {},
   "outputs": [
    {
     "name": "stdout",
     "output_type": "stream",
     "text": [
      "Extracting EDF parameters from c:\\Users\\pthoe\\projects\\mexico\\mushroom_hyperscanning\\data\\bids_dataset\\sub-01\\ses-ceremony1\\eeg\\sub-01_ses-ceremony1_task-psilo_eeg.edf...\n",
      "EDF file detected\n",
      "Setting channel info structure...\n",
      "Creating raw.info structure...\n"
     ]
    },
    {
     "data": {
      "text/plain": [
       "['EEG P3-Pz',\n",
       " 'EEG C3-Pz',\n",
       " 'EEG F3-Pz',\n",
       " 'EEG Fz-Pz',\n",
       " 'EEG F4-Pz',\n",
       " 'EEG C4-Pz',\n",
       " 'EEG P4-Pz',\n",
       " 'EEG Cz-Pz',\n",
       " 'CM',\n",
       " 'EEG A1-Pz',\n",
       " 'EEG Fp1-Pz',\n",
       " 'EEG Fp2-Pz',\n",
       " 'EEG T3-Pz',\n",
       " 'EEG T5-Pz',\n",
       " 'EEG O1-Pz',\n",
       " 'EEG O2-Pz',\n",
       " 'EEG X3:-Pz',\n",
       " 'EEG X2:-Pz',\n",
       " 'EEG F7-Pz',\n",
       " 'EEG F8-Pz',\n",
       " 'EEG X1:ECG-Pz',\n",
       " 'EEG A2-Pz',\n",
       " 'EEG T6-Pz',\n",
       " 'EEG T4-Pz',\n",
       " 'Pz',\n",
       " 'Trigger',\n",
       " 'Event']"
      ]
     },
     "execution_count": 30,
     "metadata": {},
     "output_type": "execute_result"
    }
   ],
   "source": []
  },
  {
   "cell_type": "code",
   "execution_count": null,
   "metadata": {},
   "outputs": [
    {
     "ename": "NameError",
     "evalue": "name 'pd' is not defined",
     "output_type": "error",
     "traceback": [
      "\u001b[1;31m---------------------------------------------------------------------------\u001b[0m",
      "\u001b[1;31mNameError\u001b[0m                                 Traceback (most recent call last)",
      "Cell \u001b[1;32mIn[31], line 16\u001b[0m\n\u001b[0;32m     14\u001b[0m task \u001b[38;5;241m=\u001b[39m \u001b[38;5;124m'\u001b[39m\u001b[38;5;124mpsilo\u001b[39m\u001b[38;5;124m'\u001b[39m\n\u001b[0;32m     15\u001b[0m BIDS_ROOT \u001b[38;5;241m=\u001b[39m \u001b[38;5;124m\"\u001b[39m\u001b[38;5;124m..\u001b[39m\u001b[38;5;124m\"\u001b[39m\n\u001b[1;32m---> 16\u001b[0m ecg_data, ecg_trigger, ecg_info \u001b[38;5;241m=\u001b[39m \u001b[43mload_custom_ecg\u001b[49m\u001b[43m(\u001b[49m\u001b[43msubject\u001b[49m\u001b[43m,\u001b[49m\u001b[43m \u001b[49m\u001b[43msession\u001b[49m\u001b[43m,\u001b[49m\u001b[43m \u001b[49m\u001b[43mtask\u001b[49m\u001b[43m,\u001b[49m\u001b[43m \u001b[49m\u001b[43mBIDS_ROOT\u001b[49m\u001b[43m)\u001b[49m\n",
      "Cell \u001b[1;32mIn[31], line 7\u001b[0m, in \u001b[0;36mload_custom_ecg\u001b[1;34m(subject, session, task, bids_root)\u001b[0m\n\u001b[0;32m      5\u001b[0m file_path_info \u001b[38;5;241m=\u001b[39m \u001b[38;5;124mf\u001b[39m\u001b[38;5;124m\"\u001b[39m\u001b[38;5;132;01m{\u001b[39;00mbids_root\u001b[38;5;132;01m}\u001b[39;00m\u001b[38;5;124m/sub-\u001b[39m\u001b[38;5;132;01m{\u001b[39;00msubject\u001b[38;5;132;01m}\u001b[39;00m\u001b[38;5;124m/ses-\u001b[39m\u001b[38;5;132;01m{\u001b[39;00msession\u001b[38;5;132;01m}\u001b[39;00m\u001b[38;5;124m/ecg/sub-\u001b[39m\u001b[38;5;132;01m{\u001b[39;00msubject\u001b[38;5;132;01m}\u001b[39;00m\u001b[38;5;124m_ses-\u001b[39m\u001b[38;5;132;01m{\u001b[39;00msession\u001b[38;5;132;01m}\u001b[39;00m\u001b[38;5;124m_task-\u001b[39m\u001b[38;5;132;01m{\u001b[39;00mtask\u001b[38;5;132;01m}\u001b[39;00m\u001b[38;5;124m_info.csv\u001b[39m\u001b[38;5;124m\"\u001b[39m\n\u001b[0;32m      6\u001b[0m \u001b[38;5;66;03m# Load the data\u001b[39;00m\n\u001b[1;32m----> 7\u001b[0m ecg_data \u001b[38;5;241m=\u001b[39m \u001b[43mpd\u001b[49m\u001b[38;5;241m.\u001b[39mread_csv(file_path)\n\u001b[0;32m      8\u001b[0m ecg_trigger \u001b[38;5;241m=\u001b[39m pd\u001b[38;5;241m.\u001b[39mread_csv(file_path_trigger)\n\u001b[0;32m      9\u001b[0m ecg_info \u001b[38;5;241m=\u001b[39m pd\u001b[38;5;241m.\u001b[39mread_csv(file_path_info)\n",
      "\u001b[1;31mNameError\u001b[0m: name 'pd' is not defined"
     ]
    }
   ],
   "source": []
  }
 ],
 "metadata": {
  "kernelspec": {
   "display_name": "new",
   "language": "python",
   "name": "python3"
  },
  "language_info": {
   "codemirror_mode": {
    "name": "ipython",
    "version": 3
   },
   "file_extension": ".py",
   "mimetype": "text/x-python",
   "name": "python",
   "nbconvert_exporter": "python",
   "pygments_lexer": "ipython3",
   "version": "3.10.16"
  }
 },
 "nbformat": 4,
 "nbformat_minor": 2
}
