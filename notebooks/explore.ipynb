{
 "cells": [
  {
   "cell_type": "code",
   "execution_count": 2,
   "id": "12f6b8fa",
   "metadata": {},
   "outputs": [],
   "source": [
    "import sys\n",
    "\n",
    "sys.path.append(\"../src/preprocessing\")\n",
    "\n",
    "from utils import load_eeg"
   ]
  },
  {
   "cell_type": "code",
   "execution_count": 3,
   "id": "df170559",
   "metadata": {},
   "outputs": [
    {
     "name": "stdout",
     "output_type": "stream",
     "text": [
      "Extracting EDF parameters from c:\\Users\\pthoe\\projects\\mexico\\mushroom_hyperscanning\\data\\002_alignment\\sub-01\\ses-ceremony2\\eeg\\sub-01_ses-ceremony2_task-psilo_eeg.edf...\n",
      "EDF file detected\n",
      "Setting channel info structure...\n",
      "Creating raw.info structure...\n"
     ]
    }
   ],
   "source": [
    "cur = load_eeg(\"01\", \"ceremony2\", \"../data/002_alignment\")"
   ]
  },
  {
   "cell_type": "code",
   "execution_count": 4,
   "id": "2ba0fa12",
   "metadata": {},
   "outputs": [
    {
     "data": {
      "text/plain": [
       "<Annotations | 157 segments: 1 (4), 2 (40), 3 (18), 4 (2), 5 (69), 6 (7), ...>"
      ]
     },
     "execution_count": 4,
     "metadata": {},
     "output_type": "execute_result"
    }
   ],
   "source": [
    "cur.annotations"
   ]
  }
 ],
 "metadata": {
  "kernelspec": {
   "display_name": "new",
   "language": "python",
   "name": "python3"
  },
  "language_info": {
   "codemirror_mode": {
    "name": "ipython",
    "version": 3
   },
   "file_extension": ".py",
   "mimetype": "text/x-python",
   "name": "python",
   "nbconvert_exporter": "python",
   "pygments_lexer": "ipython3",
   "version": "3.10.16"
  }
 },
 "nbformat": 4,
 "nbformat_minor": 5
}
