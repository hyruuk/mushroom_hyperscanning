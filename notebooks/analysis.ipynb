{
 "cells": [
  {
   "cell_type": "code",
   "execution_count": 1,
   "id": "0277823b",
   "metadata": {},
   "outputs": [],
   "source": [
    "import sys\n",
    "\n",
    "sys.path.append(\"../src/preprocessing\")\n",
    "\n",
    "from utils import load_eeg\n",
    "import mne\n",
    "from joblib import Parallel, delayed\n",
    "from tqdm import trange\n",
    "import numpy as np\n",
    "from antropy import lziv_complexity\n",
    "from functools import partial\n",
    "import matplotlib.pyplot as plt"
   ]
  },
  {
   "cell_type": "code",
   "execution_count": 2,
   "id": "3171751a",
   "metadata": {},
   "outputs": [],
   "source": [
    "def sliding_window(raw, func, window_seconds, step_seconds, n_jobs=-1):\n",
    "    data = raw.get_data()\n",
    "    sfreq = raw.info[\"sfreq\"]\n",
    "    window = int(window_seconds * sfreq)\n",
    "    step = int(step_seconds * sfreq)\n",
    "    results = Parallel(n_jobs=n_jobs)(\n",
    "        delayed(func)(data[:, i : i + window], sfreq) for i in trange(0, data.shape[1] - window, step)\n",
    "    )\n",
    "    times = np.arange(0, len(data[0]) - window, step) / sfreq\n",
    "    return times, np.array(results)\n",
    "\n",
    "\n",
    "def lzc(x, sfreq, normalize=True, axis=-1):\n",
    "    x = x > np.median(x, axis=axis, keepdims=True)\n",
    "    return np.apply_along_axis(lziv_complexity, axis, x, normalize=normalize)\n",
    "\n",
    "\n",
    "def psd(x, sfreq, fmin, fmax, precision_hz, relative=True, axis=-1):\n",
    "    \"\"\"\n",
    "    Compute the power spectral density of the signal using Welch's method.\n",
    "\n",
    "    Parameters:\n",
    "    -----------\n",
    "    x : array-like\n",
    "        The input signal\n",
    "    sfreq : float\n",
    "        Sampling frequency of the signal in Hz\n",
    "    fmin : float\n",
    "        Minimum frequency of interest in Hz\n",
    "    fmax : float\n",
    "        Maximum frequency of interest in Hz\n",
    "    precision_hz : float\n",
    "        Size of each frequency bin in Hz\n",
    "    axis : int\n",
    "        Axis along which to compute the PSD\n",
    "\n",
    "    Returns:\n",
    "    --------\n",
    "    array-like\n",
    "        The average power spectral density across the specified frequency range\n",
    "    \"\"\"\n",
    "    # Calculate n_fft from the desired frequency precision (bin size)\n",
    "    # The relation is: precision_hz = sfreq / n_fft\n",
    "    n_fft = int(np.ceil(sfreq / precision_hz))\n",
    "    # Compute PSD using Welch's method for the entire frequency range (0.5-50 Hz)\n",
    "    Pxx_all, freqs_all = mne.time_frequency.psd_array_welch(x, sfreq, n_fft=n_fft, average=\"mean\", verbose=False)\n",
    "\n",
    "    # Create mask for the frequency band of interest\n",
    "    freq_mask = (freqs_all >= fmin) & (freqs_all <= fmax)\n",
    "\n",
    "    # Extract the PSD values for the frequency band of interest\n",
    "    Pxx = Pxx_all[:, freq_mask]\n",
    "\n",
    "    # If relative is True, normalize by the total power\n",
    "    if relative:\n",
    "        total_power = Pxx_all.sum(axis=-1, keepdims=True)\n",
    "        Pxx = Pxx / total_power\n",
    "\n",
    "    # Calculate the mean power across the specified frequency band\n",
    "    # print(\"mean\", Pxx.mean(axis=-1).mean(axis=axis))\n",
    "    # print(\"Pxx\", Pxx)\n",
    "    return Pxx.mean(axis=axis)"
   ]
  },
  {
   "cell_type": "code",
   "execution_count": 3,
   "id": "3c12e0ec",
   "metadata": {},
   "outputs": [],
   "source": [
    "freq_bands = {\n",
    "    \"delta\": (0.5, 4.0),\n",
    "    \"theta\": (4.0, 8.0),\n",
    "    \"alpha\": (8.0, 12.0),\n",
    "    \"beta\": (12.0, 30.0),\n",
    "    \"gamma\": (30.0, 45.0),\n",
    "}"
   ]
  },
  {
   "cell_type": "code",
   "execution_count": 4,
   "id": "76c6241c",
   "metadata": {},
   "outputs": [
    {
     "name": "stdout",
     "output_type": "stream",
     "text": [
      "Extracting EDF parameters from c:\\Users\\pthoe\\projects\\mexico\\mushroom_hyperscanning\\data\\003_sanitization\\sub-01\\ses-ceremony1\\eeg\\sub-01_ses-ceremony1_task-psilo_eeg.edf...\n",
      "EDF file detected\n",
      "Setting channel info structure...\n",
      "Creating raw.info structure...\n",
      "Reading 0 ... 5612999  =      0.000 ... 18709.997 secs...\n",
      "NOTE: pick_types() is a legacy function. New code should use inst.pick(...).\n",
      "Extracting EDF parameters from c:\\Users\\pthoe\\projects\\mexico\\mushroom_hyperscanning\\data\\003_sanitization\\sub-01\\ses-ceremony1\\eeg\\sub-01_ses-ceremony1_task-psilo_eeg.edf...\n",
      "EDF file detected\n",
      "Setting channel info structure...\n",
      "Creating raw.info structure...\n",
      "Reading 0 ... 5612999  =      0.000 ... 18709.997 secs...\n",
      "NOTE: pick_types() is a legacy function. New code should use inst.pick(...).\n"
     ]
    }
   ],
   "source": [
    "cur: mne.io.Raw = load_eeg(\"01\", \"ceremony1\", \"../data/003_sanitization\", preload=True)\n",
    "cur = cur.pick_types(eeg=True, exclude=[\"CM\", \"ECG\", \"A1\", \"A2\"])\n",
    "pat = load_eeg(\"01\", \"ceremony1\", \"../data/003_sanitization\", preload=True)\n",
    "pat = pat.pick_types(eeg=True, exclude=[\"CM\", \"ECG\", \"A1\", \"A2\"])"
   ]
  },
  {
   "cell_type": "code",
   "execution_count": null,
   "id": "54874a16",
   "metadata": {},
   "outputs": [
    {
     "name": "stderr",
     "output_type": "stream",
     "text": [
      "100%|██████████| 614/614 [00:06<00:00, 90.32it/s] \n",
      "100%|██████████| 614/614 [00:06<00:00, 90.45it/s] \n",
      "100%|██████████| 614/614 [00:07<00:00, 77.37it/s] \n",
      "100%|██████████| 614/614 [00:07<00:00, 77.42it/s] \n",
      "100%|██████████| 614/614 [00:07<00:00, 77.15it/s] \n",
      "  0%|          | 0/614 [00:00<?, ?it/s]"
     ]
    }
   ],
   "source": [
    "times, results = {}, {}\n",
    "for band in freq_bands:\n",
    "    fmin, fmax = freq_bands[band]\n",
    "    t, p = sliding_window(cur, partial(psd, fmin=fmin, fmax=fmax, precision_hz=2), 60 * 5, 30, n_jobs=-1)\n",
    "    times[band] = t\n",
    "    results[band] = p\n",
    "\n",
    "t, lzc = sliding_window(cur, lzc, 60 * 5, 30, n_jobs=-1)\n",
    "times[\"lzc\"] = t\n",
    "results[\"lzc\"] = lzc"
   ]
  },
  {
   "cell_type": "code",
   "execution_count": null,
   "id": "18a51ee3",
   "metadata": {},
   "outputs": [
    {
     "data": {
      "text/plain": [
       "array(['head movement', 'eye blinks', 'jaw clench', 'eyes open',\n",
       "       'eyes closed', 'interruption, curandero bathroom', 'start control',\n",
       "       '5', 'ingestion', 'resynchronize EEG',\n",
       "       'interruption, curandero standing', '7', 'limpia',\n",
       "       'interruption, second apprentice enters',\n",
       "       'patient wakes up from trance', 'patient speaking',\n",
       "       'catarsis, patient',\n",
       "       'interruption, curandero mastoid electrode adjustment',\n",
       "       'interruption, curandero crying', 'interruption, curandero vomits',\n",
       "       'catarsis, curandero leaves trance', 'catarsis, patient thanking',\n",
       "       'limpia, apprentice', 'interruption, general break'], dtype=object)"
      ]
     },
     "execution_count": 15,
     "metadata": {},
     "output_type": "execute_result"
    }
   ],
   "source": [
    "cur.annotations.to_data_frame()[\"description\"].unique()"
   ]
  },
  {
   "cell_type": "code",
   "execution_count": null,
   "id": "6ee6a48e",
   "metadata": {},
   "outputs": [
    {
     "ename": "NameError",
     "evalue": "name 'results' is not defined",
     "output_type": "error",
     "traceback": [
      "\u001b[1;31m---------------------------------------------------------------------------\u001b[0m",
      "\u001b[1;31mNameError\u001b[0m                                 Traceback (most recent call last)",
      "Cell \u001b[1;32mIn[16], line 13\u001b[0m\n\u001b[0;32m     11\u001b[0m ax \u001b[38;5;241m=\u001b[39m axes[i]\n\u001b[0;32m     12\u001b[0m mask \u001b[38;5;241m=\u001b[39m (times[band] \u001b[38;5;241m>\u001b[39m\u001b[38;5;241m=\u001b[39m start_time) \u001b[38;5;241m&\u001b[39m (times[band] \u001b[38;5;241m<\u001b[39m\u001b[38;5;241m=\u001b[39m end_time)\n\u001b[1;32m---> 13\u001b[0m ax\u001b[38;5;241m.\u001b[39mplot(times[band][mask], \u001b[43mresults\u001b[49m[band]\u001b[38;5;241m.\u001b[39mmean(axis\u001b[38;5;241m=\u001b[39m\u001b[38;5;241m1\u001b[39m)[mask])\n\u001b[0;32m     14\u001b[0m ax\u001b[38;5;241m.\u001b[39mset_title(\u001b[38;5;124mf\u001b[39m\u001b[38;5;124m\"\u001b[39m\u001b[38;5;132;01m{\u001b[39;00mband\u001b[38;5;241m.\u001b[39mcapitalize()\u001b[38;5;132;01m}\u001b[39;00m\u001b[38;5;124m (\u001b[39m\u001b[38;5;132;01m{\u001b[39;00mfreq_bands[band][\u001b[38;5;241m0\u001b[39m]\u001b[38;5;132;01m}\u001b[39;00m\u001b[38;5;124m-\u001b[39m\u001b[38;5;132;01m{\u001b[39;00mfreq_bands[band][\u001b[38;5;241m1\u001b[39m]\u001b[38;5;132;01m}\u001b[39;00m\u001b[38;5;124m Hz)\u001b[39m\u001b[38;5;124m\"\u001b[39m)\n\u001b[0;32m     15\u001b[0m ax\u001b[38;5;241m.\u001b[39mset_ylabel(\u001b[38;5;124m\"\u001b[39m\u001b[38;5;124mPower\u001b[39m\u001b[38;5;124m\"\u001b[39m)\n",
      "\u001b[1;31mNameError\u001b[0m: name 'results' is not defined"
     ]
    },
    {
     "data": {
      "image/png": "[encoded data removed]",
      "text/plain": [
       "<Figure size 1500x1200 with 5 Axes>"
      ]
     },
     "metadata": {},
     "output_type": "display_data"
    }
   ],
   "source": [
    "start_time = 43 * 60\n",
    "end_time = 5 * 60 * 60\n",
    "include_triggers = {\"start control\", \"ingestion\", \"limpia\", \"eyes open\", \"eyes closed\"}\n",
    "\n",
    "# Create a figure with subplots for each frequency band\n",
    "fig, axes = plt.subplots(len(freq_bands), 1, figsize=(15, 12), sharex=True)\n",
    "fig.suptitle(\"EEG Power Spectrum Density Over Time\", fontsize=16)\n",
    "\n",
    "# Plot each frequency band\n",
    "for i, band in enumerate(freq_bands):\n",
    "    ax = axes[i]\n",
    "    mask = (times[band] >= start_time) & (times[band] <= end_time)\n",
    "    ax.plot(times[band][mask], results[band].mean(axis=1)[mask])\n",
    "    ax.set_title(f\"{band.capitalize()} ({freq_bands[band][0]}-{freq_bands[band][1]} Hz)\")\n",
    "    ax.set_ylabel(\"Power\")\n",
    "\n",
    "# Set common x-axis label\n",
    "axes[-1].set_xlabel(\"Time (seconds)\")\n",
    "# Add vertical lines for triggers from annotations\n",
    "for i, band in enumerate(freq_bands):\n",
    "    ax = axes[i]\n",
    "    # Get all annotations from the EEG data\n",
    "    for idx, annotation in enumerate(cur.annotations):\n",
    "        desc = annotation[\"description\"]\n",
    "        onset = annotation[\"onset\"]\n",
    "        duration = annotation[\"duration\"]\n",
    "\n",
    "        # Check if the annotation description starts with any of the included triggers\n",
    "        if any(desc.startswith(trigger) for trigger in include_triggers):\n",
    "            # Make sure the trigger is within the plotted time range\n",
    "            if start_time <= onset <= end_time:\n",
    "                # Add vertical line at the onset\n",
    "                ax.axvline(x=onset, color=\"r\", linestyle=\"--\", alpha=0.7, label=desc if idx == 0 else \"\")\n",
    "\n",
    "                # Add vertical line at the end of the annotation (onset + duration)\n",
    "                if onset + duration <= end_time:\n",
    "                    ax.axvline(x=onset + duration, color=\"g\", linestyle=\":\", alpha=0.5)\n",
    "\n",
    "                # Add text annotation for the first band only to avoid clutter\n",
    "                if i == 0:\n",
    "                    ax.text(\n",
    "                        onset,\n",
    "                        ax.get_ylim()[1] + (ax.get_ylim()[1] * 0.1),\n",
    "                        desc,\n",
    "                        rotation=90,\n",
    "                        fontsize=8,\n",
    "                        verticalalignment=\"bottom\",\n",
    "                    )\n",
    "\n",
    "# Add a legend for the first subplot only\n",
    "handles, labels = axes[0].get_legend_handles_labels()\n",
    "by_label = dict(zip(labels, handles))\n",
    "axes[0].legend(by_label.values(), by_label.keys(), loc=\"upper right\", fontsize=8)\n",
    "\n",
    "# Adjust spacing between subplots\n",
    "plt.tight_layout(rect=[0, 0, 1, 0.96])  # Leave space for the suptitle\n",
    "plt.show()"
   ]
  },
  {
   "cell_type": "code",
   "execution_count": null,
   "id": "46322c26",
   "metadata": {},
   "outputs": [],
   "source": []
  }
 ],
 "metadata": {
  "kernelspec": {
   "display_name": "new",
   "language": "python",
   "name": "python3"
  },
  "language_info": {
   "codemirror_mode": {
    "name": "ipython",
    "version": 3
   },
   "file_extension": ".py",
   "mimetype": "text/x-python",
   "name": "python",
   "nbconvert_exporter": "python",
   "pygments_lexer": "ipython3",
   "version": "3.10.16"
  }
 },
 "nbformat": 4,
 "nbformat_minor": 5
}
